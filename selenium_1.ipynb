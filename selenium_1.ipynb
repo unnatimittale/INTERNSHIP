{
 "cells": [
  {
   "cell_type": "code",
   "execution_count": 1,
   "id": "7dfde7f4",
   "metadata": {},
   "outputs": [
    {
     "name": "stdout",
     "output_type": "stream",
     "text": [
      "Requirement already satisfied: selenium in c:\\users\\sony\\anaconda3\\lib\\site-packages (4.12.0)\n",
      "Requirement already satisfied: trio-websocket~=0.9 in c:\\users\\sony\\anaconda3\\lib\\site-packages (from selenium) (0.10.4)\n",
      "Requirement already satisfied: urllib3[socks]<3,>=1.26 in c:\\users\\sony\\anaconda3\\lib\\site-packages (from selenium) (1.26.11)\n",
      "Requirement already satisfied: certifi>=2021.10.8 in c:\\users\\sony\\anaconda3\\lib\\site-packages (from selenium) (2022.9.14)\n",
      "Requirement already satisfied: trio~=0.17 in c:\\users\\sony\\anaconda3\\lib\\site-packages (from selenium) (0.22.2)\n",
      "Requirement already satisfied: outcome in c:\\users\\sony\\anaconda3\\lib\\site-packages (from trio~=0.17->selenium) (1.2.0)\n",
      "Requirement already satisfied: attrs>=20.1.0 in c:\\users\\sony\\anaconda3\\lib\\site-packages (from trio~=0.17->selenium) (21.4.0)\n",
      "Requirement already satisfied: cffi>=1.14 in c:\\users\\sony\\anaconda3\\lib\\site-packages (from trio~=0.17->selenium) (1.15.1)\n",
      "Requirement already satisfied: exceptiongroup>=1.0.0rc9 in c:\\users\\sony\\anaconda3\\lib\\site-packages (from trio~=0.17->selenium) (1.1.3)\n",
      "Requirement already satisfied: idna in c:\\users\\sony\\anaconda3\\lib\\site-packages (from trio~=0.17->selenium) (3.3)\n",
      "Requirement already satisfied: sniffio in c:\\users\\sony\\anaconda3\\lib\\site-packages (from trio~=0.17->selenium) (1.2.0)\n",
      "Requirement already satisfied: sortedcontainers in c:\\users\\sony\\anaconda3\\lib\\site-packages (from trio~=0.17->selenium) (2.4.0)\n",
      "Requirement already satisfied: wsproto>=0.14 in c:\\users\\sony\\anaconda3\\lib\\site-packages (from trio-websocket~=0.9->selenium) (1.2.0)\n",
      "Requirement already satisfied: PySocks!=1.5.7,<2.0,>=1.5.6 in c:\\users\\sony\\anaconda3\\lib\\site-packages (from urllib3[socks]<3,>=1.26->selenium) (1.7.1)\n",
      "Requirement already satisfied: pycparser in c:\\users\\sony\\anaconda3\\lib\\site-packages (from cffi>=1.14->trio~=0.17->selenium) (2.21)\n",
      "Requirement already satisfied: h11<1,>=0.9.0 in c:\\users\\sony\\anaconda3\\lib\\site-packages (from wsproto>=0.14->trio-websocket~=0.9->selenium) (0.14.0)\n"
     ]
    }
   ],
   "source": [
    "!pip install selenium"
   ]
  },
  {
   "cell_type": "code",
   "execution_count": 17,
   "id": "2f2cf8d1",
   "metadata": {},
   "outputs": [],
   "source": [
    "import selenium\n",
    "import pandas as pd \n",
    "from selenium import webdriver \n",
    "import warnings \n",
    "warnings.filterwarnings('ignore')\n",
    "from selenium.webdriver.common.by import By \n",
    "import time\n"
   ]
  },
  {
   "cell_type": "code",
   "execution_count": 62,
   "id": "1646e89c",
   "metadata": {},
   "outputs": [],
   "source": [
    "driver = webdriver.Chrome()"
   ]
  },
  {
   "cell_type": "code",
   "execution_count": 63,
   "id": "73a1e84b",
   "metadata": {},
   "outputs": [],
   "source": [
    "#opening shine page on automated browser \n",
    "driver.get('https://www.shine.com/')"
   ]
  },
  {
   "cell_type": "code",
   "execution_count": 65,
   "id": "e6705199",
   "metadata": {},
   "outputs": [],
   "source": [
    "job_title = driver.find_element(By.CLASS_NAME,\"form-control  \")\n",
    "job_title.send_keys('Data Analyst')\n",
    "                    "
   ]
  },
  {
   "cell_type": "code",
   "execution_count": 66,
   "id": "bab2af98",
   "metadata": {},
   "outputs": [],
   "source": [
    "location=driver.find_element(By.XPATH,\"/html/body/div[1]/div[4]/div/div[2]/div[2]/div/form/div/div[1]/ul/li[2]/div/input\")\n",
    "location.send_keys('Bangalore')"
   ]
  },
  {
   "cell_type": "code",
   "execution_count": 68,
   "id": "61b7455f",
   "metadata": {},
   "outputs": [],
   "source": [
    "search = driver.find_element(By.CLASS_NAME,\"searchForm_btnWrap_advance__VYBHN\")\n",
    "search.click()"
   ]
  },
  {
   "cell_type": "code",
   "execution_count": 81,
   "id": "678fdf0e",
   "metadata": {},
   "outputs": [],
   "source": [
    "job_titles=[]\n",
    "job_location=[]\n",
    "company_names=[]\n",
    "exp_req=[]\n"
   ]
  },
  {
   "cell_type": "code",
   "execution_count": 92,
   "id": "795d87c9",
   "metadata": {},
   "outputs": [
    {
     "data": {
      "text/plain": [
       "['Technical Data Analyst',\n",
       " 'opening data analyst -Bangalore',\n",
       " 'Senior Data Analyst',\n",
       " 'Hiring For Data Analyst',\n",
       " 'Data Analyst',\n",
       " 'Clinical Data Analyst',\n",
       " 'Mobility Data Analyst - IN/MKR',\n",
       " 'Senior Data Analyst',\n",
       " 'Data Analyst',\n",
       " 'Data Analyst - Java/Python']"
      ]
     },
     "execution_count": 92,
     "metadata": {},
     "output_type": "execute_result"
    }
   ],
   "source": [
    "title_tags=driver.find_elements(By.XPATH,'//h2[@itemprop=\"name\"]')\n",
    "for i in title_tags:\n",
    "    if i.text is None:\n",
    "        job_titles.append('Not')\n",
    "    else:\n",
    "        job_titles.append(i.text)\n",
    "job_titles[:10]\n",
    "\n"
   ]
  },
  {
   "cell_type": "code",
   "execution_count": 98,
   "id": "733cfdc0",
   "metadata": {},
   "outputs": [
    {
     "data": {
      "text/plain": [
       "['Bangalore\\n+9',\n",
       " 'Bangalore',\n",
       " 'Bangalore\\n+8',\n",
       " 'Bangalore\\n+8',\n",
       " 'Bangalore',\n",
       " 'Bangalore\\n+4',\n",
       " 'Bangalore',\n",
       " 'Bangalore',\n",
       " 'Bangalore\\n+13',\n",
       " 'Bangalore']"
      ]
     },
     "execution_count": 98,
     "metadata": {},
     "output_type": "execute_result"
    }
   ],
   "source": [
    "location_tags = driver.find_elements(By.XPATH,'//div[@class=\" jobCard_jobCard_lists_item__YxRkV jobCard_locationIcon__zrWt2\"]')\n",
    "for i in location_tags:\n",
    "        job_location.append(i.text)\n",
    "job_location[:10]"
   ]
  },
  {
   "cell_type": "code",
   "execution_count": 99,
   "id": "c0f24164",
   "metadata": {},
   "outputs": [
    {
     "data": {
      "text/plain": [
       "['krishna consultancy.. hiring for co...',\n",
       " 'provizor it services pvt. ltd.',\n",
       " 'harjai computers private limited',\n",
       " 'harjai computers private limited',\n",
       " 'true caller',\n",
       " 'quiscon biotech',\n",
       " 'bosch group',\n",
       " 'true caller',\n",
       " 'rama technical consultants',\n",
       " 'boyen haddin consulting and technol...']"
      ]
     },
     "execution_count": 99,
     "metadata": {},
     "output_type": "execute_result"
    }
   ],
   "source": [
    "company_name=driver.find_elements(By.XPATH,'//div[@class=\"jobCard_jobCard_cName__mYnow\"]')\n",
    "for i in company_name:\n",
    "    company_names.append(i.text)\n",
    "company_names[:10]    "
   ]
  },
  {
   "cell_type": "code",
   "execution_count": 100,
   "id": "9773be44",
   "metadata": {},
   "outputs": [
    {
     "data": {
      "text/plain": [
       "['4 to 9 Yrs',\n",
       " '2 to 5 Yrs',\n",
       " '0 to 2 Yrs',\n",
       " '2 to 5 Yrs',\n",
       " '3 to 5 Yrs',\n",
       " '0 to 2 Yrs',\n",
       " '4 to 6 Yrs',\n",
       " '5 to 7 Yrs',\n",
       " '11 to 21 Yrs',\n",
       " '3 to 6 Yrs']"
      ]
     },
     "execution_count": 100,
     "metadata": {},
     "output_type": "execute_result"
    }
   ],
   "source": [
    "exp= driver.find_elements(By.XPATH,'//div[@class=\" jobCard_jobCard_lists_item__YxRkV jobCard_jobIcon__3FB1t\"]')\n",
    "\n",
    "for i in exp:\n",
    "    exp_req.append(i.text)\n",
    "exp_req[:10] \n",
    "    "
   ]
  },
  {
   "cell_type": "code",
   "execution_count": 103,
   "id": "9b40927b",
   "metadata": {},
   "outputs": [
    {
     "name": "stdout",
     "output_type": "stream",
     "text": [
      "10\n",
      "10\n",
      "10\n",
      "10\n"
     ]
    },
    {
     "data": {
      "text/plain": [
       "(None, None, None, None)"
      ]
     },
     "execution_count": 103,
     "metadata": {},
     "output_type": "execute_result"
    }
   ],
   "source": [
    "print(len(job_titles[:10])),print(len(company_names[:10])),print(len(exp_req[:10])),print(len(job_location[:10]))\n"
   ]
  },
  {
   "cell_type": "code",
   "execution_count": 107,
   "id": "b8392dcd",
   "metadata": {},
   "outputs": [
    {
     "data": {
      "text/html": [
       "<div>\n",
       "<style scoped>\n",
       "    .dataframe tbody tr th:only-of-type {\n",
       "        vertical-align: middle;\n",
       "    }\n",
       "\n",
       "    .dataframe tbody tr th {\n",
       "        vertical-align: top;\n",
       "    }\n",
       "\n",
       "    .dataframe thead th {\n",
       "        text-align: right;\n",
       "    }\n",
       "</style>\n",
       "<table border=\"1\" class=\"dataframe\">\n",
       "  <thead>\n",
       "    <tr style=\"text-align: right;\">\n",
       "      <th></th>\n",
       "      <th>title</th>\n",
       "      <th>company</th>\n",
       "      <th>experience_required</th>\n",
       "      <th>location</th>\n",
       "    </tr>\n",
       "  </thead>\n",
       "  <tbody>\n",
       "    <tr>\n",
       "      <th>0</th>\n",
       "      <td>Technical Data Analyst</td>\n",
       "      <td>krishna consultancy.. hiring for co...</td>\n",
       "      <td>4 to 9 Yrs</td>\n",
       "      <td>Bangalore\\n+9</td>\n",
       "    </tr>\n",
       "    <tr>\n",
       "      <th>1</th>\n",
       "      <td>opening data analyst -Bangalore</td>\n",
       "      <td>provizor it services pvt. ltd.</td>\n",
       "      <td>2 to 5 Yrs</td>\n",
       "      <td>Bangalore</td>\n",
       "    </tr>\n",
       "    <tr>\n",
       "      <th>2</th>\n",
       "      <td>Senior Data Analyst</td>\n",
       "      <td>harjai computers private limited</td>\n",
       "      <td>0 to 2 Yrs</td>\n",
       "      <td>Bangalore\\n+8</td>\n",
       "    </tr>\n",
       "    <tr>\n",
       "      <th>3</th>\n",
       "      <td>Hiring For Data Analyst</td>\n",
       "      <td>harjai computers private limited</td>\n",
       "      <td>2 to 5 Yrs</td>\n",
       "      <td>Bangalore\\n+8</td>\n",
       "    </tr>\n",
       "    <tr>\n",
       "      <th>4</th>\n",
       "      <td>Data Analyst</td>\n",
       "      <td>true caller</td>\n",
       "      <td>3 to 5 Yrs</td>\n",
       "      <td>Bangalore</td>\n",
       "    </tr>\n",
       "    <tr>\n",
       "      <th>5</th>\n",
       "      <td>Clinical Data Analyst</td>\n",
       "      <td>quiscon biotech</td>\n",
       "      <td>0 to 2 Yrs</td>\n",
       "      <td>Bangalore\\n+4</td>\n",
       "    </tr>\n",
       "    <tr>\n",
       "      <th>6</th>\n",
       "      <td>Mobility Data Analyst - IN/MKR</td>\n",
       "      <td>bosch group</td>\n",
       "      <td>4 to 6 Yrs</td>\n",
       "      <td>Bangalore</td>\n",
       "    </tr>\n",
       "    <tr>\n",
       "      <th>7</th>\n",
       "      <td>Senior Data Analyst</td>\n",
       "      <td>true caller</td>\n",
       "      <td>5 to 7 Yrs</td>\n",
       "      <td>Bangalore</td>\n",
       "    </tr>\n",
       "    <tr>\n",
       "      <th>8</th>\n",
       "      <td>Data Analyst</td>\n",
       "      <td>rama technical consultants</td>\n",
       "      <td>11 to 21 Yrs</td>\n",
       "      <td>Bangalore\\n+13</td>\n",
       "    </tr>\n",
       "    <tr>\n",
       "      <th>9</th>\n",
       "      <td>Data Analyst - Java/Python</td>\n",
       "      <td>boyen haddin consulting and technol...</td>\n",
       "      <td>3 to 6 Yrs</td>\n",
       "      <td>Bangalore</td>\n",
       "    </tr>\n",
       "  </tbody>\n",
       "</table>\n",
       "</div>"
      ],
      "text/plain": [
       "                             title                                 company  \\\n",
       "0           Technical Data Analyst  krishna consultancy.. hiring for co...   \n",
       "1  opening data analyst -Bangalore          provizor it services pvt. ltd.   \n",
       "2              Senior Data Analyst        harjai computers private limited   \n",
       "3          Hiring For Data Analyst        harjai computers private limited   \n",
       "4                     Data Analyst                             true caller   \n",
       "5            Clinical Data Analyst                         quiscon biotech   \n",
       "6   Mobility Data Analyst - IN/MKR                             bosch group   \n",
       "7              Senior Data Analyst                             true caller   \n",
       "8                     Data Analyst              rama technical consultants   \n",
       "9       Data Analyst - Java/Python  boyen haddin consulting and technol...   \n",
       "\n",
       "  experience_required        location  \n",
       "0          4 to 9 Yrs   Bangalore\\n+9  \n",
       "1          2 to 5 Yrs       Bangalore  \n",
       "2          0 to 2 Yrs   Bangalore\\n+8  \n",
       "3          2 to 5 Yrs   Bangalore\\n+8  \n",
       "4          3 to 5 Yrs       Bangalore  \n",
       "5          0 to 2 Yrs   Bangalore\\n+4  \n",
       "6          4 to 6 Yrs       Bangalore  \n",
       "7          5 to 7 Yrs       Bangalore  \n",
       "8        11 to 21 Yrs  Bangalore\\n+13  \n",
       "9          3 to 6 Yrs       Bangalore  "
      ]
     },
     "execution_count": 107,
     "metadata": {},
     "output_type": "execute_result"
    }
   ],
   "source": [
    "jobs=pd.DataFrame({})\n",
    "jobs['title']=job_titles[:10]\n",
    "jobs['company']=company_names[:10]\n",
    "jobs['experience_required']=exp_req[:10]\n",
    "jobs['location']=job_location[:10]\n",
    "jobs"
   ]
  },
  {
   "cell_type": "code",
   "execution_count": 108,
   "id": "9e2e13d0",
   "metadata": {},
   "outputs": [],
   "source": [
    "driver = webdriver.Chrome()\n"
   ]
  },
  {
   "cell_type": "code",
   "execution_count": 109,
   "id": "ccb51462",
   "metadata": {},
   "outputs": [],
   "source": [
    "driver.get('https://www.shine.com/')"
   ]
  },
  {
   "cell_type": "code",
   "execution_count": 110,
   "id": "b9f85389",
   "metadata": {},
   "outputs": [],
   "source": [
    "job_title = driver.find_element(By.CLASS_NAME,\"form-control\")\n",
    "job_title.send_keys('Data Scientist')"
   ]
  },
  {
   "cell_type": "code",
   "execution_count": 111,
   "id": "d91bddd5",
   "metadata": {},
   "outputs": [],
   "source": [
    "location=driver.find_element(By.XPATH,\"/html/body/div[1]/div[4]/div/div[2]/div[2]/div/form/div/div[1]/ul/li[2]/div/input\")\n",
    "location.send_keys('Bangalore')"
   ]
  },
  {
   "cell_type": "code",
   "execution_count": 112,
   "id": "e87f7f2f",
   "metadata": {},
   "outputs": [],
   "source": [
    "search = driver.find_element(By.CLASS_NAME,\"searchForm_btnWrap_advance__VYBHN\")\n",
    "search.click()"
   ]
  },
  {
   "cell_type": "code",
   "execution_count": 113,
   "id": "350c1137",
   "metadata": {},
   "outputs": [],
   "source": [
    "job_titles=[]\n",
    "job_location=[]\n",
    "company_names=[]"
   ]
  },
  {
   "cell_type": "code",
   "execution_count": 114,
   "id": "5ccd8bec",
   "metadata": {},
   "outputs": [
    {
     "data": {
      "text/plain": [
       "['Data Scientist',\n",
       " 'SR. DATA SCIENTIST',\n",
       " 'Senior Data Scientist- ML Engineer',\n",
       " 'Data Scientist III',\n",
       " 'Data Scientist Hiring Fresher and Experience',\n",
       " 'Opening for Computer executive, data typing , entry dat ...',\n",
       " 'Data Scientist',\n",
       " 'Senior Data Scientist, AWS',\n",
       " 'Data Scientist Recruitment',\n",
       " 'Data Engineer II, Amazon WFM Tech Enterprise Data']"
      ]
     },
     "execution_count": 114,
     "metadata": {},
     "output_type": "execute_result"
    }
   ],
   "source": [
    "title_tags=driver.find_elements(By.XPATH,'//h2[@itemprop=\"name\"]')\n",
    "for i in title_tags:\n",
    "    if i.text is None:\n",
    "        job_titles.append('Not')\n",
    "    else:\n",
    "        job_titles.append(i.text)\n",
    "job_titles[:10]"
   ]
  },
  {
   "cell_type": "code",
   "execution_count": 115,
   "id": "7d2840fb",
   "metadata": {},
   "outputs": [
    {
     "data": {
      "text/plain": [
       "['Bangalore',\n",
       " 'Bangalore',\n",
       " 'Bangalore',\n",
       " 'Bangalore',\n",
       " 'Bangalore\\n+17',\n",
       " 'Bangalore\\n+9',\n",
       " 'Bangalore\\n+6',\n",
       " 'Bangalore',\n",
       " 'Bangalore\\n+17',\n",
       " 'Bangalore']"
      ]
     },
     "execution_count": 115,
     "metadata": {},
     "output_type": "execute_result"
    }
   ],
   "source": [
    "location_tags = driver.find_elements(By.XPATH,'//div[@class=\" jobCard_jobCard_lists_item__YxRkV jobCard_locationIcon__zrWt2\"]')\n",
    "for i in location_tags:\n",
    "        job_location.append(i.text)\n",
    "job_location[:10]"
   ]
  },
  {
   "cell_type": "code",
   "execution_count": 117,
   "id": "4276db40",
   "metadata": {},
   "outputs": [
    {
     "data": {
      "text/plain": [
       "['the fashion cosmo',\n",
       " 'te connectivity india pvt ltd',\n",
       " 'sap india pvt ltd',\n",
       " 'inmobi',\n",
       " 'kavya staffing solutions',\n",
       " 'realtech solutions',\n",
       " 'quiscon biotech',\n",
       " 'amazon',\n",
       " 'kavya staffing solutions',\n",
       " 'amazon']"
      ]
     },
     "execution_count": 117,
     "metadata": {},
     "output_type": "execute_result"
    }
   ],
   "source": [
    "company_name=driver.find_elements(By.XPATH,'//div[@class=\"jobCard_jobCard_cName__mYnow\"]')\n",
    "for i in company_name:\n",
    "    company_names.append(i.text)\n",
    "company_names[:10]    "
   ]
  },
  {
   "cell_type": "code",
   "execution_count": 118,
   "id": "2c4d1898",
   "metadata": {},
   "outputs": [
    {
     "name": "stdout",
     "output_type": "stream",
     "text": [
      "10\n",
      "10\n",
      "10\n"
     ]
    },
    {
     "data": {
      "text/plain": [
       "(None, None, None)"
      ]
     },
     "execution_count": 118,
     "metadata": {},
     "output_type": "execute_result"
    }
   ],
   "source": [
    "print(len(job_titles[:10])),print(len(company_names[:10])),print(len(job_location[:10]))\n"
   ]
  },
  {
   "cell_type": "code",
   "execution_count": 119,
   "id": "822addd0",
   "metadata": {},
   "outputs": [
    {
     "data": {
      "text/html": [
       "<div>\n",
       "<style scoped>\n",
       "    .dataframe tbody tr th:only-of-type {\n",
       "        vertical-align: middle;\n",
       "    }\n",
       "\n",
       "    .dataframe tbody tr th {\n",
       "        vertical-align: top;\n",
       "    }\n",
       "\n",
       "    .dataframe thead th {\n",
       "        text-align: right;\n",
       "    }\n",
       "</style>\n",
       "<table border=\"1\" class=\"dataframe\">\n",
       "  <thead>\n",
       "    <tr style=\"text-align: right;\">\n",
       "      <th></th>\n",
       "      <th>title</th>\n",
       "      <th>company</th>\n",
       "      <th>location</th>\n",
       "    </tr>\n",
       "  </thead>\n",
       "  <tbody>\n",
       "    <tr>\n",
       "      <th>0</th>\n",
       "      <td>Data Scientist</td>\n",
       "      <td>the fashion cosmo</td>\n",
       "      <td>Bangalore</td>\n",
       "    </tr>\n",
       "    <tr>\n",
       "      <th>1</th>\n",
       "      <td>SR. DATA SCIENTIST</td>\n",
       "      <td>te connectivity india pvt ltd</td>\n",
       "      <td>Bangalore</td>\n",
       "    </tr>\n",
       "    <tr>\n",
       "      <th>2</th>\n",
       "      <td>Senior Data Scientist- ML Engineer</td>\n",
       "      <td>sap india pvt ltd</td>\n",
       "      <td>Bangalore</td>\n",
       "    </tr>\n",
       "    <tr>\n",
       "      <th>3</th>\n",
       "      <td>Data Scientist III</td>\n",
       "      <td>inmobi</td>\n",
       "      <td>Bangalore</td>\n",
       "    </tr>\n",
       "    <tr>\n",
       "      <th>4</th>\n",
       "      <td>Data Scientist Hiring Fresher and Experience</td>\n",
       "      <td>kavya staffing solutions</td>\n",
       "      <td>Bangalore\\n+17</td>\n",
       "    </tr>\n",
       "    <tr>\n",
       "      <th>5</th>\n",
       "      <td>Opening for Computer executive, data typing , ...</td>\n",
       "      <td>realtech solutions</td>\n",
       "      <td>Bangalore\\n+9</td>\n",
       "    </tr>\n",
       "    <tr>\n",
       "      <th>6</th>\n",
       "      <td>Data Scientist</td>\n",
       "      <td>quiscon biotech</td>\n",
       "      <td>Bangalore\\n+6</td>\n",
       "    </tr>\n",
       "    <tr>\n",
       "      <th>7</th>\n",
       "      <td>Senior Data Scientist, AWS</td>\n",
       "      <td>amazon</td>\n",
       "      <td>Bangalore</td>\n",
       "    </tr>\n",
       "    <tr>\n",
       "      <th>8</th>\n",
       "      <td>Data Scientist Recruitment</td>\n",
       "      <td>kavya staffing solutions</td>\n",
       "      <td>Bangalore\\n+17</td>\n",
       "    </tr>\n",
       "    <tr>\n",
       "      <th>9</th>\n",
       "      <td>Data Engineer II, Amazon WFM Tech Enterprise Data</td>\n",
       "      <td>amazon</td>\n",
       "      <td>Bangalore</td>\n",
       "    </tr>\n",
       "  </tbody>\n",
       "</table>\n",
       "</div>"
      ],
      "text/plain": [
       "                                               title  \\\n",
       "0                                     Data Scientist   \n",
       "1                                 SR. DATA SCIENTIST   \n",
       "2                 Senior Data Scientist- ML Engineer   \n",
       "3                                 Data Scientist III   \n",
       "4       Data Scientist Hiring Fresher and Experience   \n",
       "5  Opening for Computer executive, data typing , ...   \n",
       "6                                     Data Scientist   \n",
       "7                         Senior Data Scientist, AWS   \n",
       "8                         Data Scientist Recruitment   \n",
       "9  Data Engineer II, Amazon WFM Tech Enterprise Data   \n",
       "\n",
       "                         company        location  \n",
       "0              the fashion cosmo       Bangalore  \n",
       "1  te connectivity india pvt ltd       Bangalore  \n",
       "2              sap india pvt ltd       Bangalore  \n",
       "3                         inmobi       Bangalore  \n",
       "4       kavya staffing solutions  Bangalore\\n+17  \n",
       "5             realtech solutions   Bangalore\\n+9  \n",
       "6                quiscon biotech   Bangalore\\n+6  \n",
       "7                         amazon       Bangalore  \n",
       "8       kavya staffing solutions  Bangalore\\n+17  \n",
       "9                         amazon       Bangalore  "
      ]
     },
     "execution_count": 119,
     "metadata": {},
     "output_type": "execute_result"
    }
   ],
   "source": [
    "jobs=pd.DataFrame({})\n",
    "jobs['title']=job_titles[:10]\n",
    "jobs['company']=company_names[:10]\n",
    "\n",
    "jobs['location']=job_location[:10]\n",
    "jobs"
   ]
  },
  {
   "cell_type": "code",
   "execution_count": 223,
   "id": "2b4e16dd",
   "metadata": {},
   "outputs": [],
   "source": [
    "driver = webdriver.Chrome()\n",
    "driver.get('https://www.shine.com/')\n"
   ]
  },
  {
   "cell_type": "code",
   "execution_count": 225,
   "id": "38ee2bb6",
   "metadata": {},
   "outputs": [],
   "source": [
    "job_title = driver.find_element(By.CLASS_NAME,\"form-control \")\n",
    "job_title.send_keys('Data Scientist')"
   ]
  },
  {
   "cell_type": "code",
   "execution_count": 226,
   "id": "64c0256b",
   "metadata": {},
   "outputs": [],
   "source": [
    "location=driver.find_element(By.XPATH,\"/html/body/div[1]/div[4]/div/div[2]/div[2]/div/form/div/div[1]/ul/li[2]/div/input\")\n",
    "location.send_keys('Delhi')"
   ]
  },
  {
   "cell_type": "code",
   "execution_count": 140,
   "id": "69031cd1",
   "metadata": {},
   "outputs": [],
   "source": [
    "search = driver.find_element(By.CLASS_NAME,\"searchForm_btnWrap_advance__VYBHN\")\n",
    "search.click()"
   ]
  },
  {
   "cell_type": "code",
   "execution_count": 229,
   "id": "58643364",
   "metadata": {},
   "outputs": [],
   "source": [
    "filter_button=driver.find_elements(By.XPATH,\"//input[@class='form-control']\")\n",
    "for i in filter_button:\n",
    "    if i.text==\"3 To 5 Lakh \":\n",
    "        i.click()\n",
    "        break"
   ]
  },
  {
   "cell_type": "code",
   "execution_count": 228,
   "id": "f200beaa",
   "metadata": {},
   "outputs": [],
   "source": [
    "job_titles=[]\n",
    "job_location=[]\n",
    "company_names=[]\n",
    "exp_req=[]\n"
   ]
  },
  {
   "cell_type": "code",
   "execution_count": 230,
   "id": "19e79691",
   "metadata": {},
   "outputs": [
    {
     "data": {
      "text/plain": [
       "['Data Scientist',\n",
       " 'Data Scientist',\n",
       " 'Data Scientist - Spark/Python/Redshift',\n",
       " 'Data Scientist - Spark/Python/Redshift',\n",
       " 'DATA SCIENTIST DELHI',\n",
       " 'Needed for the post Data Scientist',\n",
       " 'Urgently need Data Scientist',\n",
       " 'Data scientist Noida',\n",
       " 'Data scientist Gurugram',\n",
       " 'Data _Scientist']"
      ]
     },
     "execution_count": 230,
     "metadata": {},
     "output_type": "execute_result"
    }
   ],
   "source": [
    "title_tags=driver.find_elements(By.XPATH,'//h2[@itemprop=\"name\"]')\n",
    "for i in title_tags:\n",
    "    if i.text is None:\n",
    "        job_titles.append('Not')\n",
    "    else:\n",
    "        job_titles.append(i.text)\n",
    "job_titles[:10]\n"
   ]
  },
  {
   "cell_type": "code",
   "execution_count": 233,
   "id": "e5b6f852",
   "metadata": {},
   "outputs": [
    {
     "data": {
      "text/plain": [
       "['Noida',\n",
       " 'Delhi\\n+6',\n",
       " 'Delhi\\n+4',\n",
       " 'Delhi\\n+4',\n",
       " 'Delhi',\n",
       " 'Delhi\\n+8',\n",
       " 'Delhi\\n+8',\n",
       " 'Noida',\n",
       " 'Gurugram',\n",
       " 'Noida\\n+7']"
      ]
     },
     "execution_count": 233,
     "metadata": {},
     "output_type": "execute_result"
    }
   ],
   "source": [
    "location_tags= driver.find_elements(By.XPATH,\"//div[@class=' jobCard_jobCard_lists_item__YxRkV jobCard_locationIcon__zrWt2']\")\n",
    "for i in location_tags:\n",
    "        job_location.append(i.text)\n",
    "job_location[:10]"
   ]
  },
  {
   "cell_type": "code",
   "execution_count": 234,
   "id": "de084085",
   "metadata": {},
   "outputs": [
    {
     "data": {
      "text/plain": [
       "['nokia solutions and networks india ...',\n",
       " 'quiscon biotech',\n",
       " 'boyen haddin consulting and technol...',\n",
       " 'boyen haddin consulting and technol...',\n",
       " 'skyleaf consultants',\n",
       " 'deuglo infosystem private limited',\n",
       " 'deuglo infosystem private limited',\n",
       " 'seven geomax consulting private lim...',\n",
       " 'seven geomax consulting private lim...',\n",
       " 'gfl recruitment private limited']"
      ]
     },
     "execution_count": 234,
     "metadata": {},
     "output_type": "execute_result"
    }
   ],
   "source": [
    "company_name=driver.find_elements(By.XPATH,'//div[@class=\"jobCard_jobCard_cName__mYnow\"]')\n",
    "for i in company_name:\n",
    "    company_names.append(i.text)\n",
    "company_names[:10]"
   ]
  },
  {
   "cell_type": "code",
   "execution_count": 235,
   "id": "d09a6596",
   "metadata": {},
   "outputs": [
    {
     "data": {
      "text/plain": [
       "['10 to 12 Yrs',\n",
       " '0 to 1 Yr',\n",
       " '5 to 9 Yrs',\n",
       " '5 to 9 Yrs',\n",
       " '3 to 6 Yrs',\n",
       " '4 to 6 Yrs',\n",
       " '4 to 6 Yrs',\n",
       " '6 to 9 Yrs',\n",
       " '6 to 9 Yrs',\n",
       " '1 to 5 Yrs']"
      ]
     },
     "execution_count": 235,
     "metadata": {},
     "output_type": "execute_result"
    }
   ],
   "source": [
    "exp= driver.find_elements(By.XPATH,'//div[@class=\" jobCard_jobCard_lists_item__YxRkV jobCard_jobIcon__3FB1t\"]')\n",
    "\n",
    "for i in exp:\n",
    "    exp_req.append(i.text)\n",
    "exp_req[:10] "
   ]
  },
  {
   "cell_type": "code",
   "execution_count": 236,
   "id": "20b2ab82",
   "metadata": {},
   "outputs": [
    {
     "name": "stdout",
     "output_type": "stream",
     "text": [
      "10\n",
      "10\n",
      "10\n",
      "10\n"
     ]
    },
    {
     "data": {
      "text/plain": [
       "(None, None, None, None)"
      ]
     },
     "execution_count": 236,
     "metadata": {},
     "output_type": "execute_result"
    }
   ],
   "source": [
    "print(len(job_titles[:10])),print(len(company_names[:10])),print(len(exp_req[:10])),print(len(job_location[:10]))\n"
   ]
  },
  {
   "cell_type": "code",
   "execution_count": 237,
   "id": "712629d3",
   "metadata": {},
   "outputs": [
    {
     "data": {
      "text/html": [
       "<div>\n",
       "<style scoped>\n",
       "    .dataframe tbody tr th:only-of-type {\n",
       "        vertical-align: middle;\n",
       "    }\n",
       "\n",
       "    .dataframe tbody tr th {\n",
       "        vertical-align: top;\n",
       "    }\n",
       "\n",
       "    .dataframe thead th {\n",
       "        text-align: right;\n",
       "    }\n",
       "</style>\n",
       "<table border=\"1\" class=\"dataframe\">\n",
       "  <thead>\n",
       "    <tr style=\"text-align: right;\">\n",
       "      <th></th>\n",
       "      <th>title</th>\n",
       "      <th>company</th>\n",
       "      <th>experience_required</th>\n",
       "      <th>location</th>\n",
       "    </tr>\n",
       "  </thead>\n",
       "  <tbody>\n",
       "    <tr>\n",
       "      <th>0</th>\n",
       "      <td>Data Scientist</td>\n",
       "      <td>nokia solutions and networks india ...</td>\n",
       "      <td>10 to 12 Yrs</td>\n",
       "      <td>Noida</td>\n",
       "    </tr>\n",
       "    <tr>\n",
       "      <th>1</th>\n",
       "      <td>Data Scientist</td>\n",
       "      <td>quiscon biotech</td>\n",
       "      <td>0 to 1 Yr</td>\n",
       "      <td>Delhi\\n+6</td>\n",
       "    </tr>\n",
       "    <tr>\n",
       "      <th>2</th>\n",
       "      <td>Data Scientist - Spark/Python/Redshift</td>\n",
       "      <td>boyen haddin consulting and technol...</td>\n",
       "      <td>5 to 9 Yrs</td>\n",
       "      <td>Delhi\\n+4</td>\n",
       "    </tr>\n",
       "    <tr>\n",
       "      <th>3</th>\n",
       "      <td>Data Scientist - Spark/Python/Redshift</td>\n",
       "      <td>boyen haddin consulting and technol...</td>\n",
       "      <td>5 to 9 Yrs</td>\n",
       "      <td>Delhi\\n+4</td>\n",
       "    </tr>\n",
       "    <tr>\n",
       "      <th>4</th>\n",
       "      <td>DATA SCIENTIST DELHI</td>\n",
       "      <td>skyleaf consultants</td>\n",
       "      <td>3 to 6 Yrs</td>\n",
       "      <td>Delhi</td>\n",
       "    </tr>\n",
       "    <tr>\n",
       "      <th>5</th>\n",
       "      <td>Needed for the post Data Scientist</td>\n",
       "      <td>deuglo infosystem private limited</td>\n",
       "      <td>4 to 6 Yrs</td>\n",
       "      <td>Delhi\\n+8</td>\n",
       "    </tr>\n",
       "    <tr>\n",
       "      <th>6</th>\n",
       "      <td>Urgently need Data Scientist</td>\n",
       "      <td>deuglo infosystem private limited</td>\n",
       "      <td>4 to 6 Yrs</td>\n",
       "      <td>Delhi\\n+8</td>\n",
       "    </tr>\n",
       "    <tr>\n",
       "      <th>7</th>\n",
       "      <td>Data scientist Noida</td>\n",
       "      <td>seven geomax consulting private lim...</td>\n",
       "      <td>6 to 9 Yrs</td>\n",
       "      <td>Noida</td>\n",
       "    </tr>\n",
       "    <tr>\n",
       "      <th>8</th>\n",
       "      <td>Data scientist Gurugram</td>\n",
       "      <td>seven geomax consulting private lim...</td>\n",
       "      <td>6 to 9 Yrs</td>\n",
       "      <td>Gurugram</td>\n",
       "    </tr>\n",
       "    <tr>\n",
       "      <th>9</th>\n",
       "      <td>Data _Scientist</td>\n",
       "      <td>gfl recruitment private limited</td>\n",
       "      <td>1 to 5 Yrs</td>\n",
       "      <td>Noida\\n+7</td>\n",
       "    </tr>\n",
       "  </tbody>\n",
       "</table>\n",
       "</div>"
      ],
      "text/plain": [
       "                                    title  \\\n",
       "0                          Data Scientist   \n",
       "1                          Data Scientist   \n",
       "2  Data Scientist - Spark/Python/Redshift   \n",
       "3  Data Scientist - Spark/Python/Redshift   \n",
       "4                    DATA SCIENTIST DELHI   \n",
       "5      Needed for the post Data Scientist   \n",
       "6            Urgently need Data Scientist   \n",
       "7                    Data scientist Noida   \n",
       "8                 Data scientist Gurugram   \n",
       "9                         Data _Scientist   \n",
       "\n",
       "                                  company experience_required   location  \n",
       "0  nokia solutions and networks india ...        10 to 12 Yrs      Noida  \n",
       "1                         quiscon biotech           0 to 1 Yr  Delhi\\n+6  \n",
       "2  boyen haddin consulting and technol...          5 to 9 Yrs  Delhi\\n+4  \n",
       "3  boyen haddin consulting and technol...          5 to 9 Yrs  Delhi\\n+4  \n",
       "4                     skyleaf consultants          3 to 6 Yrs      Delhi  \n",
       "5       deuglo infosystem private limited          4 to 6 Yrs  Delhi\\n+8  \n",
       "6       deuglo infosystem private limited          4 to 6 Yrs  Delhi\\n+8  \n",
       "7  seven geomax consulting private lim...          6 to 9 Yrs      Noida  \n",
       "8  seven geomax consulting private lim...          6 to 9 Yrs   Gurugram  \n",
       "9         gfl recruitment private limited          1 to 5 Yrs  Noida\\n+7  "
      ]
     },
     "execution_count": 237,
     "metadata": {},
     "output_type": "execute_result"
    }
   ],
   "source": [
    "jobs=pd.DataFrame({})\n",
    "jobs['title']=job_titles[:10]\n",
    "jobs['company']=company_names[:10]\n",
    "jobs['experience_required']=exp_req[:10]\n",
    "jobs['location']=job_location[:10]\n",
    "jobs"
   ]
  },
  {
   "cell_type": "code",
   "execution_count": 149,
   "id": "11799a08",
   "metadata": {},
   "outputs": [],
   "source": [
    "driver = webdriver.Chrome()\n"
   ]
  },
  {
   "cell_type": "code",
   "execution_count": 150,
   "id": "8256bf2c",
   "metadata": {},
   "outputs": [],
   "source": [
    "driver.get('https://www.flipkart.com/')"
   ]
  },
  {
   "cell_type": "code",
   "execution_count": 152,
   "id": "f89c11e0",
   "metadata": {},
   "outputs": [],
   "source": [
    "search_product = driver.find_element(By.CLASS_NAME,\"Pke_EE\")\n",
    "search_product.send_keys('Sunglasses')"
   ]
  },
  {
   "cell_type": "code",
   "execution_count": 160,
   "id": "1a0946b4",
   "metadata": {},
   "outputs": [],
   "source": [
    "search_btn=driver.find_element(By.CLASS_NAME,'L0Z3Pu')\n",
    "search_btn.click()"
   ]
  },
  {
   "cell_type": "code",
   "execution_count": 161,
   "id": "1fa2294e",
   "metadata": {},
   "outputs": [],
   "source": [
    "B_name=[]\n",
    "Price=[]\n",
    "P_desc=[]"
   ]
  },
  {
   "cell_type": "code",
   "execution_count": 178,
   "id": "202247c7",
   "metadata": {},
   "outputs": [],
   "source": [
    "for i in range(3):\n",
    "    b_name=driver.find_elements(By.XPATH,\"//div[@class='_2WkVRV']\")\n",
    "    p_desc=driver.find_elements(By.XPATH,\"//a[@class='IRpwTa']\")\n",
    "    price =driver.find_elements(By.XPATH,\"//div[@class='_25b18c']\")\n",
    "   \n",
    "    \n",
    "    for j  in b_name:\n",
    "        B_name.append(j.text)\n",
    "    B_name[:100]    \n",
    "    \n",
    "    \n",
    "    \n",
    "    for k in p_desc:\n",
    "        P_desc.append(k.text)\n",
    "    P_desc[:100] \n",
    "    \n",
    "    \n",
    "    for l in price:\n",
    "        Price.append(l.text)\n",
    "    Price[:100] \n",
    "    "
   ]
  },
  {
   "cell_type": "code",
   "execution_count": 179,
   "id": "4aaf003b",
   "metadata": {},
   "outputs": [
    {
     "data": {
      "text/plain": [
       "['VINCENT CHASE',\n",
       " 'VINCENT CHASE',\n",
       " 'Fastrack',\n",
       " 'Fastrack',\n",
       " 'Fastrack',\n",
       " 'Fastrack',\n",
       " 'STACTOR',\n",
       " 'VINCENT CHASE',\n",
       " 'Fastrack',\n",
       " 'Rich Club',\n",
       " 'Singco India',\n",
       " 'VINCENT CHASE',\n",
       " 'Rich Club',\n",
       " 'Sunglassess',\n",
       " 'Fastrack',\n",
       " 'Eyewearlabs',\n",
       " 'Eyewearlabs',\n",
       " 'ROYAL SON',\n",
       " 'eyedens',\n",
       " 'Fastrack',\n",
       " 'VINCENT CHASE',\n",
       " 'VINCENT CHASE',\n",
       " 'GANSTA',\n",
       " 'Fastrack',\n",
       " 'Fastrack',\n",
       " 'PIRASO',\n",
       " 'Singco India',\n",
       " 'VINCENT CHASE',\n",
       " '90stethix',\n",
       " 'ROADWAY',\n",
       " 'Eyewearlabs',\n",
       " 'ROZZETTA CRAFT',\n",
       " 'Fastrack',\n",
       " 'shah collections',\n",
       " 'Fastrack',\n",
       " 'PIRASO',\n",
       " 'VINCENT CHASE',\n",
       " 'ROYAL SON',\n",
       " 'CLICKEDIN',\n",
       " 'PIRASO',\n",
       " 'VINCENT CHASE',\n",
       " 'VINCENT CHASE',\n",
       " 'Fastrack',\n",
       " 'Fastrack',\n",
       " 'Fastrack',\n",
       " 'Fastrack',\n",
       " 'STACTOR',\n",
       " 'VINCENT CHASE',\n",
       " 'Fastrack',\n",
       " 'Rich Club',\n",
       " 'Singco India',\n",
       " 'VINCENT CHASE',\n",
       " 'Rich Club',\n",
       " 'Sunglassess',\n",
       " 'Fastrack',\n",
       " 'Eyewearlabs',\n",
       " 'Eyewearlabs',\n",
       " 'ROYAL SON',\n",
       " 'eyedens',\n",
       " 'Fastrack',\n",
       " 'VINCENT CHASE',\n",
       " 'VINCENT CHASE',\n",
       " 'GANSTA',\n",
       " 'Fastrack',\n",
       " 'Fastrack',\n",
       " 'PIRASO',\n",
       " 'Singco India',\n",
       " 'VINCENT CHASE',\n",
       " '90stethix',\n",
       " 'ROADWAY',\n",
       " 'Eyewearlabs',\n",
       " 'ROZZETTA CRAFT',\n",
       " 'Fastrack',\n",
       " 'shah collections',\n",
       " 'Fastrack',\n",
       " 'PIRASO',\n",
       " 'VINCENT CHASE',\n",
       " 'ROYAL SON',\n",
       " 'CLICKEDIN',\n",
       " 'PIRASO',\n",
       " 'VINCENT CHASE',\n",
       " 'VINCENT CHASE',\n",
       " 'Fastrack',\n",
       " 'Fastrack',\n",
       " 'Fastrack',\n",
       " 'Fastrack',\n",
       " 'STACTOR',\n",
       " 'VINCENT CHASE',\n",
       " 'Fastrack',\n",
       " 'Rich Club',\n",
       " 'Singco India',\n",
       " 'VINCENT CHASE',\n",
       " 'Rich Club',\n",
       " 'Sunglassess',\n",
       " 'Fastrack',\n",
       " 'Eyewearlabs',\n",
       " 'Eyewearlabs',\n",
       " 'ROYAL SON',\n",
       " 'eyedens',\n",
       " 'Fastrack']"
      ]
     },
     "execution_count": 179,
     "metadata": {},
     "output_type": "execute_result"
    }
   ],
   "source": [
    " B_name[:100]\n",
    "\n"
   ]
  },
  {
   "cell_type": "code",
   "execution_count": 180,
   "id": "94a77439",
   "metadata": {},
   "outputs": [
    {
     "name": "stdout",
     "output_type": "stream",
     "text": [
      "100\n",
      "100\n",
      "100\n"
     ]
    },
    {
     "data": {
      "text/plain": [
       "(None, None, None)"
      ]
     },
     "execution_count": 180,
     "metadata": {},
     "output_type": "execute_result"
    }
   ],
   "source": [
    "print(len(B_name[:100])),print(len(Price[:100])),print(len(P_desc[:100]))\n"
   ]
  },
  {
   "cell_type": "code",
   "execution_count": 181,
   "id": "d3999667",
   "metadata": {},
   "outputs": [],
   "source": [
    "sun_gl=pd.DataFrame({})\n",
    "sun_gl['Brand_name']=B_name[:100]\n",
    "sun_gl['P_price']=Price[:100]\n",
    "sun_gl['Pr_desc']=P_desc[:100]"
   ]
  },
  {
   "cell_type": "code",
   "execution_count": 182,
   "id": "58c420ef",
   "metadata": {},
   "outputs": [
    {
     "data": {
      "text/html": [
       "<div>\n",
       "<style scoped>\n",
       "    .dataframe tbody tr th:only-of-type {\n",
       "        vertical-align: middle;\n",
       "    }\n",
       "\n",
       "    .dataframe tbody tr th {\n",
       "        vertical-align: top;\n",
       "    }\n",
       "\n",
       "    .dataframe thead th {\n",
       "        text-align: right;\n",
       "    }\n",
       "</style>\n",
       "<table border=\"1\" class=\"dataframe\">\n",
       "  <thead>\n",
       "    <tr style=\"text-align: right;\">\n",
       "      <th></th>\n",
       "      <th>Brand_name</th>\n",
       "      <th>P_price</th>\n",
       "      <th>Pr_desc</th>\n",
       "    </tr>\n",
       "  </thead>\n",
       "  <tbody>\n",
       "    <tr>\n",
       "      <th>0</th>\n",
       "      <td>VINCENT CHASE</td>\n",
       "      <td>₹549₹1,99972% off</td>\n",
       "      <td>UV Protection Wayfarer Sunglasses (59)</td>\n",
       "    </tr>\n",
       "    <tr>\n",
       "      <th>1</th>\n",
       "      <td>VINCENT CHASE</td>\n",
       "      <td>₹849₹1,99957% off</td>\n",
       "      <td>Polarized, UV Protection Round Sunglasses (50)</td>\n",
       "    </tr>\n",
       "    <tr>\n",
       "      <th>2</th>\n",
       "      <td>Fastrack</td>\n",
       "      <td>₹499₹89944% off</td>\n",
       "      <td>UV Protection Rectangular Sunglasses (Free Size)</td>\n",
       "    </tr>\n",
       "    <tr>\n",
       "      <th>3</th>\n",
       "      <td>Fastrack</td>\n",
       "      <td>₹799₹1,39942% off</td>\n",
       "      <td>UV Protection Aviator Sunglasses (58)</td>\n",
       "    </tr>\n",
       "    <tr>\n",
       "      <th>4</th>\n",
       "      <td>Fastrack</td>\n",
       "      <td>₹549₹99945% off</td>\n",
       "      <td>Gradient, UV Protection Wayfarer Sunglasses (F...</td>\n",
       "    </tr>\n",
       "    <tr>\n",
       "      <th>...</th>\n",
       "      <td>...</td>\n",
       "      <td>...</td>\n",
       "      <td>...</td>\n",
       "    </tr>\n",
       "    <tr>\n",
       "      <th>95</th>\n",
       "      <td>Eyewearlabs</td>\n",
       "      <td>₹549₹89938% off</td>\n",
       "      <td>UV Protection Wayfarer Sunglasses (Free Size)</td>\n",
       "    </tr>\n",
       "    <tr>\n",
       "      <th>96</th>\n",
       "      <td>Eyewearlabs</td>\n",
       "      <td>₹799₹4,19980% off</td>\n",
       "      <td>UV Protection Shield Sunglasses (Free Size)</td>\n",
       "    </tr>\n",
       "    <tr>\n",
       "      <th>97</th>\n",
       "      <td>ROYAL SON</td>\n",
       "      <td>₹949₹1,99952% off</td>\n",
       "      <td>UV Protection Over-sized Sunglasses (60)</td>\n",
       "    </tr>\n",
       "    <tr>\n",
       "      <th>98</th>\n",
       "      <td>eyedens</td>\n",
       "      <td>₹599₹1,09945% off</td>\n",
       "      <td>UV Protection, Riding Glasses Retro Square, Re...</td>\n",
       "    </tr>\n",
       "    <tr>\n",
       "      <th>99</th>\n",
       "      <td>Fastrack</td>\n",
       "      <td>₹488₹1,29962% off</td>\n",
       "      <td>by Lenskart UV Protection Clubmaster Sunglasse...</td>\n",
       "    </tr>\n",
       "  </tbody>\n",
       "</table>\n",
       "<p>100 rows × 3 columns</p>\n",
       "</div>"
      ],
      "text/plain": [
       "       Brand_name            P_price  \\\n",
       "0   VINCENT CHASE  ₹549₹1,99972% off   \n",
       "1   VINCENT CHASE  ₹849₹1,99957% off   \n",
       "2        Fastrack    ₹499₹89944% off   \n",
       "3        Fastrack  ₹799₹1,39942% off   \n",
       "4        Fastrack    ₹549₹99945% off   \n",
       "..            ...                ...   \n",
       "95    Eyewearlabs    ₹549₹89938% off   \n",
       "96    Eyewearlabs  ₹799₹4,19980% off   \n",
       "97      ROYAL SON  ₹949₹1,99952% off   \n",
       "98        eyedens  ₹599₹1,09945% off   \n",
       "99       Fastrack  ₹488₹1,29962% off   \n",
       "\n",
       "                                              Pr_desc  \n",
       "0              UV Protection Wayfarer Sunglasses (59)  \n",
       "1      Polarized, UV Protection Round Sunglasses (50)  \n",
       "2    UV Protection Rectangular Sunglasses (Free Size)  \n",
       "3               UV Protection Aviator Sunglasses (58)  \n",
       "4   Gradient, UV Protection Wayfarer Sunglasses (F...  \n",
       "..                                                ...  \n",
       "95      UV Protection Wayfarer Sunglasses (Free Size)  \n",
       "96        UV Protection Shield Sunglasses (Free Size)  \n",
       "97           UV Protection Over-sized Sunglasses (60)  \n",
       "98  UV Protection, Riding Glasses Retro Square, Re...  \n",
       "99  by Lenskart UV Protection Clubmaster Sunglasse...  \n",
       "\n",
       "[100 rows x 3 columns]"
      ]
     },
     "execution_count": 182,
     "metadata": {},
     "output_type": "execute_result"
    }
   ],
   "source": [
    "sun_gl\n"
   ]
  },
  {
   "cell_type": "code",
   "execution_count": 183,
   "id": "eb2962d1",
   "metadata": {},
   "outputs": [],
   "source": [
    "driver = webdriver.Chrome()\n"
   ]
  },
  {
   "cell_type": "code",
   "execution_count": 184,
   "id": "e74cd0b8",
   "metadata": {},
   "outputs": [],
   "source": [
    "driver.get('https://www.flipkart.com/')"
   ]
  },
  {
   "cell_type": "code",
   "execution_count": 192,
   "id": "8e99a3c1",
   "metadata": {},
   "outputs": [
    {
     "data": {
      "text/plain": [
       "<selenium.webdriver.remote.webelement.WebElement (session=\"6c38379fb3ea64d4872a21a317512e59\", element=\"41E648CBE3E990CA87FDC6F62BE4B49C_element_425\")>"
      ]
     },
     "execution_count": 192,
     "metadata": {},
     "output_type": "execute_result"
    }
   ],
   "source": [
    "search_g= driver.find_element(By.XPATH,\"//input[@type='text']\")\n",
    "search_g"
   ]
  },
  {
   "cell_type": "code",
   "execution_count": 193,
   "id": "4a498986",
   "metadata": {},
   "outputs": [],
   "source": [
    "search_g.send_keys('sneakers')\n"
   ]
  },
  {
   "cell_type": "code",
   "execution_count": null,
   "id": "8330003d",
   "metadata": {},
   "outputs": [],
   "source": [
    "search_btn=driver.find_element(By.CLASS_NAME,'L0Z3Pu')\n",
    "search_btn.click()\n"
   ]
  },
  {
   "cell_type": "code",
   "execution_count": 195,
   "id": "1de00b14",
   "metadata": {},
   "outputs": [],
   "source": [
    "\n",
    "B_name=[]\n",
    "Price=[]\n",
    "P_desc=[]"
   ]
  },
  {
   "cell_type": "code",
   "execution_count": 196,
   "id": "cc102e9f",
   "metadata": {},
   "outputs": [],
   "source": [
    "for i in range(3):\n",
    "    b_name=driver.find_elements(By.XPATH,\"//div[@class='_2WkVRV']\")\n",
    "    p_desc=driver.find_elements(By.XPATH,\"//a[@class='IRpwTa']\")\n",
    "    price =driver.find_elements(By.XPATH,\"//div[@class='_25b18c']\")\n",
    "    \n",
    "    for j  in b_name:\n",
    "        B_name.append(j.text)\n",
    "    B_name[:100]    \n",
    "    \n",
    "    \n",
    "    \n",
    "    for k in p_desc:\n",
    "        P_desc.append(k.text)\n",
    "    P_desc[:100] \n",
    "    \n",
    "    \n",
    "    for l in price:\n",
    "        Price.append(l.text)\n",
    "    Price[:100]"
   ]
  },
  {
   "cell_type": "code",
   "execution_count": 198,
   "id": "153c27b7",
   "metadata": {},
   "outputs": [
    {
     "name": "stdout",
     "output_type": "stream",
     "text": [
      "100\n",
      "100\n",
      "100\n"
     ]
    },
    {
     "data": {
      "text/plain": [
       "(None, None, None)"
      ]
     },
     "execution_count": 198,
     "metadata": {},
     "output_type": "execute_result"
    }
   ],
   "source": [
    "print(len(B_name[:100])),print(len(Price[:100])),print(len(P_desc[:100]))\n"
   ]
  },
  {
   "cell_type": "code",
   "execution_count": 201,
   "id": "ce38708d",
   "metadata": {},
   "outputs": [
    {
     "data": {
      "text/html": [
       "<div>\n",
       "<style scoped>\n",
       "    .dataframe tbody tr th:only-of-type {\n",
       "        vertical-align: middle;\n",
       "    }\n",
       "\n",
       "    .dataframe tbody tr th {\n",
       "        vertical-align: top;\n",
       "    }\n",
       "\n",
       "    .dataframe thead th {\n",
       "        text-align: right;\n",
       "    }\n",
       "</style>\n",
       "<table border=\"1\" class=\"dataframe\">\n",
       "  <thead>\n",
       "    <tr style=\"text-align: right;\">\n",
       "      <th></th>\n",
       "      <th>Brand_name</th>\n",
       "      <th>P_price</th>\n",
       "      <th>Pr_desc</th>\n",
       "    </tr>\n",
       "  </thead>\n",
       "  <tbody>\n",
       "    <tr>\n",
       "      <th>0</th>\n",
       "      <td>HOTSTYLE</td>\n",
       "      <td>₹398₹99960% off</td>\n",
       "      <td>Sneakers For Men</td>\n",
       "    </tr>\n",
       "    <tr>\n",
       "      <th>1</th>\n",
       "      <td>aadi</td>\n",
       "      <td>₹279₹1,99986% off</td>\n",
       "      <td>Lightweight,Comfort,Summer,Trendy,Walking,Outd...</td>\n",
       "    </tr>\n",
       "    <tr>\n",
       "      <th>2</th>\n",
       "      <td>asian</td>\n",
       "      <td>₹822₹1,69951% off</td>\n",
       "      <td>Sneakers For Men</td>\n",
       "    </tr>\n",
       "    <tr>\n",
       "      <th>3</th>\n",
       "      <td>asian</td>\n",
       "      <td>₹622₹89930% off</td>\n",
       "      <td>Sneakers For Men</td>\n",
       "    </tr>\n",
       "    <tr>\n",
       "      <th>4</th>\n",
       "      <td>U.S. POLO ASSN.</td>\n",
       "      <td>₹1,558₹2,99948% off</td>\n",
       "      <td>CLARKIN Sneakers For Men</td>\n",
       "    </tr>\n",
       "    <tr>\n",
       "      <th>...</th>\n",
       "      <td>...</td>\n",
       "      <td>...</td>\n",
       "      <td>...</td>\n",
       "    </tr>\n",
       "    <tr>\n",
       "      <th>95</th>\n",
       "      <td>WOODLAND</td>\n",
       "      <td>₹341₹1,29973% off</td>\n",
       "      <td>Sneakers For Men</td>\n",
       "    </tr>\n",
       "    <tr>\n",
       "      <th>96</th>\n",
       "      <td>Kraasa</td>\n",
       "      <td>₹759₹2,19965% off</td>\n",
       "      <td>kardam&amp;sons luxury fashionable Stylish Light W...</td>\n",
       "    </tr>\n",
       "    <tr>\n",
       "      <th>97</th>\n",
       "      <td>RapidBox</td>\n",
       "      <td>₹384₹1,59975% off</td>\n",
       "      <td>Lightweight,Comfort,Summer,Trendy,Walking,Outd...</td>\n",
       "    </tr>\n",
       "    <tr>\n",
       "      <th>98</th>\n",
       "      <td>Takshter</td>\n",
       "      <td>₹279₹1,99986% off</td>\n",
       "      <td>Sneakers For Men</td>\n",
       "    </tr>\n",
       "    <tr>\n",
       "      <th>99</th>\n",
       "      <td>HRX by Hrithik Roshan</td>\n",
       "      <td>₹3,330₹7,49955% off</td>\n",
       "      <td>Spring Edge Alpha 1 Sneakers For Men</td>\n",
       "    </tr>\n",
       "  </tbody>\n",
       "</table>\n",
       "<p>100 rows × 3 columns</p>\n",
       "</div>"
      ],
      "text/plain": [
       "               Brand_name              P_price  \\\n",
       "0                HOTSTYLE      ₹398₹99960% off   \n",
       "1                    aadi    ₹279₹1,99986% off   \n",
       "2                   asian    ₹822₹1,69951% off   \n",
       "3                   asian      ₹622₹89930% off   \n",
       "4         U.S. POLO ASSN.  ₹1,558₹2,99948% off   \n",
       "..                    ...                  ...   \n",
       "95               WOODLAND    ₹341₹1,29973% off   \n",
       "96                 Kraasa    ₹759₹2,19965% off   \n",
       "97               RapidBox    ₹384₹1,59975% off   \n",
       "98               Takshter    ₹279₹1,99986% off   \n",
       "99  HRX by Hrithik Roshan  ₹3,330₹7,49955% off   \n",
       "\n",
       "                                              Pr_desc  \n",
       "0                                    Sneakers For Men  \n",
       "1   Lightweight,Comfort,Summer,Trendy,Walking,Outd...  \n",
       "2                                    Sneakers For Men  \n",
       "3                                    Sneakers For Men  \n",
       "4                            CLARKIN Sneakers For Men  \n",
       "..                                                ...  \n",
       "95                                   Sneakers For Men  \n",
       "96  kardam&sons luxury fashionable Stylish Light W...  \n",
       "97  Lightweight,Comfort,Summer,Trendy,Walking,Outd...  \n",
       "98                                   Sneakers For Men  \n",
       "99               Spring Edge Alpha 1 Sneakers For Men  \n",
       "\n",
       "[100 rows x 3 columns]"
      ]
     },
     "execution_count": 201,
     "metadata": {},
     "output_type": "execute_result"
    }
   ],
   "source": [
    "sun_gl=pd.DataFrame({})\n",
    "sun_gl['Brand_name']=B_name[:100]\n",
    "sun_gl['P_price']=Price[:100]\n",
    "sun_gl['Pr_desc']=P_desc[:100]\n",
    "sun_gl\n",
    "\n"
   ]
  },
  {
   "cell_type": "code",
   "execution_count": 202,
   "id": "f46ebab3",
   "metadata": {},
   "outputs": [],
   "source": [
    "driver = webdriver.Chrome()\n"
   ]
  },
  {
   "cell_type": "code",
   "execution_count": 203,
   "id": "05f648fb",
   "metadata": {},
   "outputs": [],
   "source": [
    "driver.get('https://www.flipkart.com/apple-iphone-11-black-64-gb/product-reviews/itm4e5041ba101fd?pid=MOBFWQ6BXGJCEYNY&lid=LSTMOBFWQ6BXGJCEYNYZXSHRJ&market')"
   ]
  },
  {
   "cell_type": "code",
   "execution_count": 206,
   "id": "b181ad66",
   "metadata": {},
   "outputs": [],
   "source": [
    "rating = []\n",
    "review = []\n",
    "full_review=[]\n"
   ]
  },
  {
   "cell_type": "code",
   "execution_count": 219,
   "id": "dd2486a1",
   "metadata": {},
   "outputs": [],
   "source": [
    "for i in range(3):\n",
    "    ratings=driver.find_elements(By.XPATH,\"//div[@class='_3LWZlK _1BLPMq']\")\n",
    "    reviews=driver.find_elements(By.XPATH,\"//p[@class='_2-N8zT']\")\n",
    "    full_reviews =driver.find_elements(By.XPATH,\"//span[@class='_1H-bmy']\")\n",
    "    \n",
    "    for j  in ratings:\n",
    "        rating.append(j.text)\n",
    "    rating[:100]    \n",
    "    \n",
    "    \n",
    "    \n",
    "    for k in reviews:\n",
    "        review.append(k.text)\n",
    "    review[:100] \n",
    "    \n",
    "    \n",
    "    for l in full_reviews:\n",
    "        full_review.append(l.text)\n",
    "    full_review[:100]"
   ]
  },
  {
   "cell_type": "code",
   "execution_count": 220,
   "id": "abd95543",
   "metadata": {},
   "outputs": [
    {
     "name": "stdout",
     "output_type": "stream",
     "text": [
      "100\n",
      "100\n",
      "100\n"
     ]
    },
    {
     "data": {
      "text/plain": [
       "(None, None, None)"
      ]
     },
     "execution_count": 220,
     "metadata": {},
     "output_type": "execute_result"
    }
   ],
   "source": [
    "print(len(rating[:100])),print(len(review[:100])),print(len(full_review[:100]))\n"
   ]
  },
  {
   "cell_type": "code",
   "execution_count": 221,
   "id": "719a6e9e",
   "metadata": {},
   "outputs": [
    {
     "data": {
      "text/html": [
       "<div>\n",
       "<style scoped>\n",
       "    .dataframe tbody tr th:only-of-type {\n",
       "        vertical-align: middle;\n",
       "    }\n",
       "\n",
       "    .dataframe tbody tr th {\n",
       "        vertical-align: top;\n",
       "    }\n",
       "\n",
       "    .dataframe thead th {\n",
       "        text-align: right;\n",
       "    }\n",
       "</style>\n",
       "<table border=\"1\" class=\"dataframe\">\n",
       "  <thead>\n",
       "    <tr style=\"text-align: right;\">\n",
       "      <th></th>\n",
       "      <th>Ratings</th>\n",
       "      <th>Reviews</th>\n",
       "      <th>Full_review</th>\n",
       "    </tr>\n",
       "  </thead>\n",
       "  <tbody>\n",
       "    <tr>\n",
       "      <th>0</th>\n",
       "      <td>5</td>\n",
       "      <td>Best in the market!</td>\n",
       "      <td></td>\n",
       "    </tr>\n",
       "    <tr>\n",
       "      <th>1</th>\n",
       "      <td>5</td>\n",
       "      <td>Wonderful</td>\n",
       "      <td></td>\n",
       "    </tr>\n",
       "    <tr>\n",
       "      <th>2</th>\n",
       "      <td>5</td>\n",
       "      <td>Worth every penny</td>\n",
       "      <td></td>\n",
       "    </tr>\n",
       "    <tr>\n",
       "      <th>3</th>\n",
       "      <td>5</td>\n",
       "      <td>Must buy!</td>\n",
       "      <td></td>\n",
       "    </tr>\n",
       "    <tr>\n",
       "      <th>4</th>\n",
       "      <td>5</td>\n",
       "      <td>Classy product</td>\n",
       "      <td></td>\n",
       "    </tr>\n",
       "    <tr>\n",
       "      <th>...</th>\n",
       "      <td>...</td>\n",
       "      <td>...</td>\n",
       "      <td>...</td>\n",
       "    </tr>\n",
       "    <tr>\n",
       "      <th>95</th>\n",
       "      <td>5</td>\n",
       "      <td>Terrific</td>\n",
       "      <td></td>\n",
       "    </tr>\n",
       "    <tr>\n",
       "      <th>96</th>\n",
       "      <td>5</td>\n",
       "      <td>Fabulous!</td>\n",
       "      <td></td>\n",
       "    </tr>\n",
       "    <tr>\n",
       "      <th>97</th>\n",
       "      <td>5</td>\n",
       "      <td>Just wow!</td>\n",
       "      <td></td>\n",
       "    </tr>\n",
       "    <tr>\n",
       "      <th>98</th>\n",
       "      <td>5</td>\n",
       "      <td>Classy product</td>\n",
       "      <td></td>\n",
       "    </tr>\n",
       "    <tr>\n",
       "      <th>99</th>\n",
       "      <td>5</td>\n",
       "      <td>Must buy!</td>\n",
       "      <td></td>\n",
       "    </tr>\n",
       "  </tbody>\n",
       "</table>\n",
       "<p>100 rows × 3 columns</p>\n",
       "</div>"
      ],
      "text/plain": [
       "   Ratings              Reviews Full_review\n",
       "0        5  Best in the market!            \n",
       "1        5            Wonderful            \n",
       "2        5    Worth every penny            \n",
       "3        5            Must buy!            \n",
       "4        5       Classy product            \n",
       "..     ...                  ...         ...\n",
       "95       5             Terrific            \n",
       "96       5            Fabulous!            \n",
       "97       5            Just wow!            \n",
       "98       5       Classy product            \n",
       "99       5            Must buy!            \n",
       "\n",
       "[100 rows x 3 columns]"
      ]
     },
     "execution_count": 221,
     "metadata": {},
     "output_type": "execute_result"
    }
   ],
   "source": [
    "iphone=pd.DataFrame({})\n",
    "iphone['Ratings']=rating[:100]\n",
    "iphone['Reviews']=review[:100]\n",
    "iphone['Full_review']=full_review[:100]\n",
    "iphone\n",
    "\n"
   ]
  },
  {
   "cell_type": "code",
   "execution_count": 222,
   "id": "cfbe4a28",
   "metadata": {},
   "outputs": [],
   "source": [
    "driver = webdriver.Chrome()\n"
   ]
  },
  {
   "cell_type": "code",
   "execution_count": null,
   "id": "e56946d5",
   "metadata": {},
   "outputs": [],
   "source": []
  }
 ],
 "metadata": {
  "kernelspec": {
   "display_name": "Python 3 (ipykernel)",
   "language": "python",
   "name": "python3"
  },
  "language_info": {
   "codemirror_mode": {
    "name": "ipython",
    "version": 3
   },
   "file_extension": ".py",
   "mimetype": "text/x-python",
   "name": "python",
   "nbconvert_exporter": "python",
   "pygments_lexer": "ipython3",
   "version": "3.9.13"
  }
 },
 "nbformat": 4,
 "nbformat_minor": 5
}
